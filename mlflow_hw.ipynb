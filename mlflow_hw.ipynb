{
 "cells": [
  {
   "cell_type": "code",
   "execution_count": 13,
   "metadata": {},
   "outputs": [
    {
     "name": "stderr",
     "output_type": "stream",
     "text": [
      "Successfully registered model 'IrisRandomForestModel'.\n",
      "2024/07/25 12:59:21 INFO mlflow.store.model_registry.abstract_store: Waiting up to 300 seconds for model version to finish creation. Model name: IrisRandomForestModel, version 1\n"
     ]
    },
    {
     "name": "stdout",
     "output_type": "stream",
     "text": [
      "Model saved in run ad35a33723ab43a1b102b15d01c1ae69\n"
     ]
    },
    {
     "name": "stderr",
     "output_type": "stream",
     "text": [
      "Created version '1' of model 'IrisRandomForestModel'.\n"
     ]
    }
   ],
   "source": [
    "# Log and register the model IrisRandomForestModel in MLflow (data from Iris)\n",
    "from sklearn.datasets import load_iris\n",
    "import mlflow\n",
    "import mlflow.sklearn\n",
    "from sklearn.model_selection import train_test_split\n",
    "from sklearn.ensemble import RandomForestClassifier\n",
    "\n",
    "mlflow.set_tracking_uri(\"http://localhost:5000\")\n",
    "\n",
    "iris = load_iris()\n",
    "X = iris.data\n",
    "y = iris.target\n",
    "X_train, X_test, y_train, y_test = train_test_split(X, y, test_size=0.2, random_state=42)\n",
    "model = RandomForestClassifier()\n",
    "model.fit(X_train, y_train)\n",
    "\n",
    "with mlflow.start_run() as run:\n",
    "    mlflow.sklearn.log_model(model, \"random_forest_model\", registered_model_name=\"IrisRandomForestModel\")\n",
    "    mlflow.log_params({\"n_estimators\": 100, \"random_state\": 42})\n",
    "    mlflow.log_metric(\"accuracy\", model.score(X_test, y_test))\n",
    "    print(\"Model saved in run %s\" % run.info.run_uuid)\n"
   ]
  },
  {
   "cell_type": "code",
   "execution_count": 14,
   "metadata": {},
   "outputs": [
    {
     "name": "stdout",
     "output_type": "stream",
     "text": [
      "[0]\n",
      "[1]\n",
      "[2]\n",
      "[0]\n"
     ]
    }
   ],
   "source": [
    "# testing the model\n",
    "import mlflow\n",
    "import mlflow.sklearn\n",
    "\n",
    "mlflow.set_tracking_uri(\"http://localhost:5000\")\n",
    "\n",
    "# Fetch the latest model version\n",
    "client = mlflow.tracking.MlflowClient()\n",
    "latest_run = client.search_runs(\n",
    "    experiment_ids=[\"0\"], order_by=[\"attribute.start_time DESC\"], max_results=1\n",
    ")[0]\n",
    "\n",
    "model_uri = f\"runs:/{latest_run.info.run_id}/random_forest_model\"\n",
    "model = mlflow.sklearn.load_model(model_uri)\n",
    "\n",
    "print(model.predict([[4.1, 4.2, 3.4, 0.2]]))\n",
    "print(model.predict([[1.1, 3.0, 2.4, 1.2]]))\n",
    "print(model.predict([[3.1, 2.3, 4.4, 4.2]]))\n",
    "print(model.predict([[2.1, 1.8, 1.4, 2.2]]))\n"
   ]
  },
  {
   "cell_type": "code",
   "execution_count": 17,
   "metadata": {},
   "outputs": [
    {
     "name": "stdout",
     "output_type": "stream",
     "text": [
      "[0]\n"
     ]
    }
   ],
   "source": [
    "# testing diff versions\n",
    "import mlflow.pyfunc\n",
    "\n",
    "mlflow.set_tracking_uri(\"http://localhost:5000\")\n",
    "\n",
    "model_name = \"IrisRandomForestModel\"\n",
    "model_version = 1  # Specify the version number\n",
    "model = mlflow.pyfunc.load_model(model_uri=f\"models:/{model_name}/{model_version}\")\n",
    "\n",
    "input_features = [[5.1, 3.5, 1.4, 0.2]]\n",
    "print(model.predict(input_features))\n"
   ]
  },
  {
   "cell_type": "code",
   "execution_count": 18,
   "metadata": {},
   "outputs": [
    {
     "name": "stderr",
     "output_type": "stream",
     "text": [
      "C:\\Users\\user123\\AppData\\Local\\Temp\\ipykernel_16500\\2902670911.py:4: FutureWarning: ``mlflow.tracking.client.MlflowClient.transition_model_version_stage`` is deprecated since 2.9.0. Model registry stages will be removed in a future major release. To learn more about the deprecation of model registry stages, see our migration guide here: https://mlflow.org/docs/latest/model-registry.html#migrating-from-stages\n",
      "  client.transition_model_version_stage(\n"
     ]
    },
    {
     "data": {
      "text/plain": [
       "<ModelVersion: aliases=[], creation_timestamp=1721901561457, current_stage='Production', description='', last_updated_timestamp=1721901784385, name='IrisRandomForestModel', run_id='ad35a33723ab43a1b102b15d01c1ae69', run_link='', source=('file:///C:/Users/user123/Desktop/SEfactory/week-5/AI and '\n",
       " 'ML/project/mlruns/0/ad35a33723ab43a1b102b15d01c1ae69/artifacts/random_forest_model'), status='READY', status_message='', tags={}, user_id='', version='1'>"
      ]
     },
     "execution_count": 18,
     "metadata": {},
     "output_type": "execute_result"
    }
   ],
   "source": [
    "# promoting model to production\n",
    "from mlflow.tracking import MlflowClient\n",
    "\n",
    "client = MlflowClient()\n",
    "client.transition_model_version_stage(\n",
    "    name=\"IrisRandomForestModel\",\n",
    "    version=1,\n",
    "    stage=\"Production\"\n",
    ")\n"
   ]
  },
  {
   "cell_type": "code",
   "execution_count": 19,
   "metadata": {},
   "outputs": [
    {
     "name": "stderr",
     "output_type": "stream",
     "text": [
      "Registered model 'IrisRandomForestModel' already exists. Creating a new version of this model...\n",
      "2024/07/25 13:08:03 INFO mlflow.store.model_registry.abstract_store: Waiting up to 300 seconds for model version to finish creation. Model name: IrisRandomForestModel, version 2\n"
     ]
    },
    {
     "name": "stdout",
     "output_type": "stream",
     "text": [
      "Model saved in run 35edf771a8e649ec98410ee067269679\n"
     ]
    },
    {
     "name": "stderr",
     "output_type": "stream",
     "text": [
      "Created version '2' of model 'IrisRandomForestModel'.\n"
     ]
    }
   ],
   "source": [
    "# creating a new versrion\n",
    "\n",
    "from sklearn.datasets import load_iris\n",
    "import mlflow\n",
    "import mlflow.sklearn\n",
    "from sklearn.model_selection import train_test_split\n",
    "from sklearn.ensemble import RandomForestClassifier\n",
    "\n",
    "mlflow.set_tracking_uri(\"http://localhost:5000\")\n",
    "\n",
    "iris = load_iris()\n",
    "X = iris.data\n",
    "y = iris.target\n",
    "X_train, X_test, y_train, y_test = train_test_split(X, y, test_size=0.2, random_state=42)\n",
    "model = RandomForestClassifier(n_estimators=200)  # Changed from 100 to 200\n",
    "model.fit(X_train, y_train)\n",
    "\n",
    "with mlflow.start_run() as run:\n",
    "    mlflow.sklearn.log_model(model, \"random_forest_model\", registered_model_name=\"IrisRandomForestModel\")\n",
    "    mlflow.log_params({\"n_estimators\": 200, \"random_state\": 42})\n",
    "    mlflow.log_metric(\"accuracy\", model.score(X_test, y_test))\n",
    "    print(\"Model saved in run %s\" % run.info.run_uuid)\n"
   ]
  }
 ],
 "metadata": {
  "kernelspec": {
   "display_name": ".venv",
   "language": "python",
   "name": "python3"
  },
  "language_info": {
   "codemirror_mode": {
    "name": "ipython",
    "version": 3
   },
   "file_extension": ".py",
   "mimetype": "text/x-python",
   "name": "python",
   "nbconvert_exporter": "python",
   "pygments_lexer": "ipython3",
   "version": "3.12.1"
  }
 },
 "nbformat": 4,
 "nbformat_minor": 2
}
